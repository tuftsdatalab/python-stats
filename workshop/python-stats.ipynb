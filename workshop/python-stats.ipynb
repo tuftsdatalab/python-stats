{
 "cells": [
  {
   "cell_type": "code",
   "execution_count": null,
   "id": "fca1f271-eba7-4f74-8b3a-51786950b1b6",
   "metadata": {},
   "outputs": [],
   "source": [
    "import pandas as pd\n",
    "import seaborn as sns\n",
    "from matplotlib import pyplot as plt\n",
    "from statsmodels.formula.api import ols\n",
    "from statsmodels.stats.anova import anova_lm\n",
    "import statsmodels.stats.multicomp as mc"
   ]
  },
  {
   "cell_type": "code",
   "execution_count": null,
   "id": "62d89f73-dd0e-43b5-abd7-dee64272ab6c",
   "metadata": {},
   "outputs": [],
   "source": [
    "data = sns.load_dataset('iris')"
   ]
  },
  {
   "cell_type": "code",
   "execution_count": null,
   "id": "30c8433c-b014-4bec-8324-5c2accf8267e",
   "metadata": {},
   "outputs": [],
   "source": [
    "data"
   ]
  },
  {
   "cell_type": "code",
   "execution_count": null,
   "id": "7184aab1-b504-411a-bb32-320a808851f4",
   "metadata": {},
   "outputs": [],
   "source": [
    "data['species'].unique()"
   ]
  },
  {
   "cell_type": "code",
   "execution_count": null,
   "id": "f8badcc4-cbed-4ffe-8de3-739bd845680f",
   "metadata": {},
   "outputs": [],
   "source": [
    "data.describe()"
   ]
  },
  {
   "cell_type": "code",
   "execution_count": null,
   "id": "46d60005-291b-4c2d-816a-dbf04319f55e",
   "metadata": {},
   "outputs": [],
   "source": [
    "data.groupby('species').mean()"
   ]
  },
  {
   "cell_type": "code",
   "execution_count": null,
   "id": "e23625f6-cbcb-4e14-a2b0-2d246ef2189f",
   "metadata": {},
   "outputs": [],
   "source": [
    "sns.pairplot(data, hue='species')\n",
    "plt.show()"
   ]
  },
  {
   "cell_type": "code",
   "execution_count": null,
   "id": "d29e440d-9550-4c75-babf-05c8eb9a6f08",
   "metadata": {},
   "outputs": [],
   "source": [
    "model = ols(\"sepal_width ~ C(species)\", data=data).fit()\n",
    "anova = anova_lm(model)\n",
    "anova"
   ]
  },
  {
   "cell_type": "code",
   "execution_count": null,
   "id": "93a750ff-2d7b-40d9-9499-8eb6722a3ddd",
   "metadata": {},
   "outputs": [],
   "source": [
    "comp = mc.MultiComparison(data['sepal_width'], data['species'])\n",
    "post_hoc_res = comp.tukeyhsd()\n",
    "post_hoc_res.summary()"
   ]
  },
  {
   "cell_type": "code",
   "execution_count": null,
   "id": "8f576fdd-6ba4-4c5b-b054-43e55aadeda2",
   "metadata": {},
   "outputs": [],
   "source": []
  }
 ],
 "metadata": {
  "kernelspec": {
   "display_name": "Python 3 (ipykernel)",
   "language": "python",
   "name": "python3"
  },
  "language_info": {
   "codemirror_mode": {
    "name": "ipython",
    "version": 3
   },
   "file_extension": ".py",
   "mimetype": "text/x-python",
   "name": "python",
   "nbconvert_exporter": "python",
   "pygments_lexer": "ipython3",
   "version": "3.10.0"
  }
 },
 "nbformat": 4,
 "nbformat_minor": 5
}
