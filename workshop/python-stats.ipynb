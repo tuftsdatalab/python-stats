{
 "cells": [
  {
   "cell_type": "markdown",
   "id": "0656f864-0cb9-480f-89c6-6ad22565112c",
   "metadata": {},
   "source": [
    "# Python for Statistical Analyis"
   ]
  },
  {
   "cell_type": "code",
   "execution_count": null,
   "id": "fca1f271-eba7-4f74-8b3a-51786950b1b6",
   "metadata": {},
   "outputs": [],
   "source": [
    "import pandas as pd\n",
    "import seaborn as sns\n",
    "import hvplot.pandas\n",
    "from matplotlib import pyplot as plt"
   ]
  },
  {
   "cell_type": "markdown",
   "id": "d5a24883-65e8-4080-a011-ac3f718884ee",
   "metadata": {},
   "source": [
    "## The Iris Dataset"
   ]
  },
  {
   "cell_type": "code",
   "execution_count": null,
   "id": "62d89f73-dd0e-43b5-abd7-dee64272ab6c",
   "metadata": {},
   "outputs": [],
   "source": [
    "data = sns.load_dataset('iris')"
   ]
  },
  {
   "cell_type": "code",
   "execution_count": null,
   "id": "5cd3c006-d246-4b20-a2c8-5138b27af3d4",
   "metadata": {
    "tags": []
   },
   "outputs": [],
   "source": [
    "data"
   ]
  },
  {
   "cell_type": "code",
   "execution_count": null,
   "id": "3c6ce852-797e-4bfb-8fef-d46bb1cd30e2",
   "metadata": {},
   "outputs": [],
   "source": [
    "type(data)"
   ]
  },
  {
   "cell_type": "markdown",
   "id": "9b1f8247-e56d-4603-8c8b-e974d341a29c",
   "metadata": {},
   "source": [
    "## Exploratory Analysis"
   ]
  },
  {
   "cell_type": "code",
   "execution_count": null,
   "id": "73933398-f74b-47fc-b911-095eed6cfbc9",
   "metadata": {
    "tags": []
   },
   "outputs": [],
   "source": [
    "data.head()"
   ]
  },
  {
   "cell_type": "code",
   "execution_count": null,
   "id": "7184aab1-b504-411a-bb32-320a808851f4",
   "metadata": {},
   "outputs": [],
   "source": [
    "data['species'].unique()"
   ]
  },
  {
   "cell_type": "markdown",
   "id": "d2c8000b-0869-452b-b46a-fb61d802bc38",
   "metadata": {},
   "source": [
    "### Summary Statistics"
   ]
  },
  {
   "cell_type": "code",
   "execution_count": null,
   "id": "f8badcc4-cbed-4ffe-8de3-739bd845680f",
   "metadata": {},
   "outputs": [],
   "source": [
    "data.describe()"
   ]
  },
  {
   "cell_type": "markdown",
   "id": "10d7c091-7f72-44bd-92a2-fdae75383536",
   "metadata": {},
   "source": [
    "### Summary Statistics By Group"
   ]
  },
  {
   "cell_type": "code",
   "execution_count": null,
   "id": "6b22d6cc-2177-4407-87a1-7c1fcb3dc4bf",
   "metadata": {},
   "outputs": [],
   "source": [
    "data.groupby('species').count()"
   ]
  },
  {
   "cell_type": "code",
   "execution_count": null,
   "id": "46d60005-291b-4c2d-816a-dbf04319f55e",
   "metadata": {},
   "outputs": [],
   "source": [
    "data.groupby('species').mean()"
   ]
  },
  {
   "cell_type": "code",
   "execution_count": null,
   "id": "4504b668-aa50-41c2-b2fc-0a810f40aab4",
   "metadata": {},
   "outputs": [],
   "source": [
    "data.groupby('species').min()"
   ]
  },
  {
   "cell_type": "code",
   "execution_count": null,
   "id": "61d1fa1d-6c2c-4e3f-ac86-1406565a9283",
   "metadata": {},
   "outputs": [],
   "source": [
    "data.groupby('species').max()"
   ]
  },
  {
   "cell_type": "markdown",
   "id": "03712710-357d-4cab-b4e9-70c3357419b6",
   "metadata": {},
   "source": [
    "## Data Visualization"
   ]
  },
  {
   "cell_type": "markdown",
   "id": "0a9e0b33-802b-45e3-bf63-cf572f693324",
   "metadata": {},
   "source": [
    "### Scatter Matrices"
   ]
  },
  {
   "cell_type": "code",
   "execution_count": null,
   "id": "0c56d12c-94a6-44a2-b58a-434a2f67f30b",
   "metadata": {},
   "outputs": [],
   "source": [
    "pd.plotting.scatter_matrix(data, figsize=(10, 10))\n",
    "plt.show()"
   ]
  },
  {
   "cell_type": "code",
   "execution_count": null,
   "id": "e23625f6-cbcb-4e14-a2b0-2d246ef2189f",
   "metadata": {},
   "outputs": [],
   "source": [
    "sns.pairplot(data, hue='species')\n",
    "plt.show()"
   ]
  },
  {
   "cell_type": "code",
   "execution_count": null,
   "id": "2f1e9b28-d79f-4d55-b8fe-3f64c49511a8",
   "metadata": {},
   "outputs": [],
   "source": [
    "hvplot.scatter_matrix(data, c='species', diagonal='kde')"
   ]
  },
  {
   "cell_type": "markdown",
   "id": "2693e317-ed4d-4231-8cfd-9d3a183230a7",
   "metadata": {
    "tags": []
   },
   "source": [
    "### Grouped Box Plots"
   ]
  },
  {
   "cell_type": "code",
   "execution_count": null,
   "id": "7b9a9ad4-42d3-4408-a01b-ccbcfd5dbaac",
   "metadata": {},
   "outputs": [],
   "source": [
    "data_long = pd.melt(data, id_vars='species')\n",
    "data_long"
   ]
  },
  {
   "cell_type": "code",
   "execution_count": null,
   "id": "5ae18c22-7840-4b25-b933-06e2d4a4753e",
   "metadata": {},
   "outputs": [],
   "source": [
    "(data_long.groupby('variable')\n",
    "          .boxplot(by='species', sharey=False, figsize=(10, 10)))\n",
    "plt.show()"
   ]
  },
  {
   "cell_type": "code",
   "execution_count": null,
   "id": "a993e841-a005-4726-a1b6-fd7c6f198185",
   "metadata": {},
   "outputs": [],
   "source": [
    "sns.catplot(data=data_long, x='species', y='value', sharey=False,\n",
    "            col='variable', col_wrap=2, kind='box')\n",
    "plt.show()"
   ]
  },
  {
   "cell_type": "code",
   "execution_count": null,
   "id": "b7f9ec8e-abf6-4fdd-9523-0c51094466b4",
   "metadata": {},
   "outputs": [],
   "source": [
    "data_long.hvplot.box(y='value', by='species', groupby='variable', height=400)"
   ]
  },
  {
   "cell_type": "markdown",
   "id": "d6f360c4-d51a-46b9-8b2e-1b635ae4f6a6",
   "metadata": {},
   "source": [
    "## ANOVA"
   ]
  },
  {
   "cell_type": "markdown",
   "id": "d3bde61c-7873-4c2a-8e5d-528f698fcb10",
   "metadata": {},
   "source": [
    "### ANOVA using SciPy"
   ]
  },
  {
   "cell_type": "code",
   "execution_count": null,
   "id": "3789082b-502a-4c78-af1c-324d1d37c35f",
   "metadata": {},
   "outputs": [],
   "source": [
    "import scipy.stats as stats"
   ]
  },
  {
   "cell_type": "code",
   "execution_count": null,
   "id": "6fdf5178-6215-4af4-bbe8-261ad24958d8",
   "metadata": {},
   "outputs": [],
   "source": [
    "grouped = data.groupby('species')['sepal_width']"
   ]
  },
  {
   "cell_type": "code",
   "execution_count": null,
   "id": "0b8cc98a-b51a-4f79-9d18-e4526ea3e600",
   "metadata": {},
   "outputs": [],
   "source": [
    "rows = []\n",
    "for name, values in grouped:\n",
    "    statistic, pvalue = stats.shapiro(values)\n",
    "    rows.append({'species': name, 'statistic': statistic, 'pvalue': pvalue})\n",
    "pd.DataFrame(rows).set_index('species')"
   ]
  },
  {
   "cell_type": "code",
   "execution_count": null,
   "id": "8d4fc4e2-b10b-4408-94d0-2b5e5b6b03c3",
   "metadata": {},
   "outputs": [],
   "source": [
    "for name, values in grouped:\n",
    "    stats.probplot(values, plot=plt)\n",
    "    plt.title(name)\n",
    "    plt.show()"
   ]
  },
  {
   "cell_type": "code",
   "execution_count": null,
   "id": "967a14ed-11ea-4f8f-9264-652d7060f426",
   "metadata": {},
   "outputs": [],
   "source": [
    "stats.bartlett(grouped.get_group('setosa'), \n",
    "               grouped.get_group('versicolor'),\n",
    "               grouped.get_group('virginica'))"
   ]
  },
  {
   "cell_type": "code",
   "execution_count": null,
   "id": "802fda64-0fb5-4b57-8443-af486c8d2661",
   "metadata": {},
   "outputs": [],
   "source": [
    "stats.f_oneway(grouped.get_group('setosa'), \n",
    "               grouped.get_group('versicolor'),\n",
    "               grouped.get_group('virginica'))"
   ]
  },
  {
   "cell_type": "markdown",
   "id": "b0f6bc6e-a1ea-49ab-b47a-77db9387efeb",
   "metadata": {},
   "source": [
    "### ANOVA using Statsmodels"
   ]
  },
  {
   "cell_type": "code",
   "execution_count": null,
   "id": "332aae5b-3251-4b8d-88e8-f5736dd61111",
   "metadata": {},
   "outputs": [],
   "source": [
    "import statsmodels.api as sm\n",
    "from statsmodels.formula.api import ols\n",
    "from statsmodels.stats.anova import anova_lm\n",
    "import statsmodels.stats.multicomp as mc"
   ]
  },
  {
   "cell_type": "code",
   "execution_count": null,
   "id": "d29e440d-9550-4c75-babf-05c8eb9a6f08",
   "metadata": {},
   "outputs": [],
   "source": [
    "model = ols(\"sepal_width ~ C(species)\", data=data).fit()\n",
    "model.summary()"
   ]
  },
  {
   "cell_type": "code",
   "execution_count": null,
   "id": "1f52555a-2616-4beb-8287-9ab3e441b272",
   "metadata": {},
   "outputs": [],
   "source": [
    "sm.qqplot(model.resid)\n",
    "plt.show()"
   ]
  },
  {
   "cell_type": "code",
   "execution_count": null,
   "id": "e85cbad3-ce3e-4955-a713-6f469e331671",
   "metadata": {},
   "outputs": [],
   "source": [
    "anova = anova_lm(model)\n",
    "anova"
   ]
  },
  {
   "cell_type": "code",
   "execution_count": null,
   "id": "93a750ff-2d7b-40d9-9499-8eb6722a3ddd",
   "metadata": {},
   "outputs": [],
   "source": [
    "comp = mc.MultiComparison(data['sepal_width'], data['species'])\n",
    "post_hoc_res = comp.tukeyhsd()\n",
    "post_hoc_res.summary()"
   ]
  },
  {
   "cell_type": "markdown",
   "id": "1532b5bb-c941-4247-8921-b0895c4b9bc4",
   "metadata": {},
   "source": [
    "### ANOVA using Pingouin"
   ]
  },
  {
   "cell_type": "code",
   "execution_count": null,
   "id": "9ee23f7a-a0f1-4ac6-8ef7-f0e598764d71",
   "metadata": {},
   "outputs": [],
   "source": [
    "import pingouin as pg"
   ]
  },
  {
   "cell_type": "code",
   "execution_count": null,
   "id": "841864c9-15f2-4d49-b3c9-c9dd7e072ef1",
   "metadata": {},
   "outputs": [],
   "source": [
    "for name, values in data.groupby('species')['sepal_width']:\n",
    "    pg.qqplot(values)\n",
    "    plt.title(name)\n",
    "    plt.show()"
   ]
  },
  {
   "cell_type": "code",
   "execution_count": null,
   "id": "7f7a8c0a-ee5a-47e4-bdf1-6ee93aed9fdd",
   "metadata": {},
   "outputs": [],
   "source": [
    "pg.normality(data, dv='sepal_width', group='species')"
   ]
  },
  {
   "cell_type": "code",
   "execution_count": null,
   "id": "8c5174e5-6ed3-47c1-b46d-cb97b22183aa",
   "metadata": {},
   "outputs": [],
   "source": [
    "pg.homoscedasticity(data, dv='sepal_width', group='species')"
   ]
  },
  {
   "cell_type": "code",
   "execution_count": null,
   "id": "f7b102b1-1a41-4e9e-a775-ab7d871d9b12",
   "metadata": {},
   "outputs": [],
   "source": [
    "pg.anova(data, dv='sepal_width', between='species', detailed=True)"
   ]
  }
 ],
 "metadata": {
  "kernelspec": {
   "display_name": "Python 3 (ipykernel)",
   "language": "python",
   "name": "python3"
  },
  "language_info": {
   "codemirror_mode": {
    "name": "ipython",
    "version": 3
   },
   "file_extension": ".py",
   "mimetype": "text/x-python",
   "name": "python",
   "nbconvert_exporter": "python",
   "pygments_lexer": "ipython3",
   "version": "3.10.0"
  }
 },
 "nbformat": 4,
 "nbformat_minor": 5
}
